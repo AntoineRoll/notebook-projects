{
 "cells": [
  {
   "cell_type": "code",
   "execution_count": 1,
   "id": "e085af05-6daf-4cf8-a1e7-3ea007dbaa48",
   "metadata": {},
   "outputs": [],
   "source": [
    "from pyvis.network import Network\n",
    "import networkx as nx"
   ]
  },
  {
   "cell_type": "code",
   "execution_count": 2,
   "id": "b1156560-aa5e-40ac-b56b-bc7eb249335e",
   "metadata": {},
   "outputs": [],
   "source": [
    "%load_ext autoreload\n",
    "%autoreload 2\n",
    "import numpy as np\n",
    "from agents import generate_all_throws, powerset, SHEET_KEYS, YamsT1E\n",
    "\n",
    "def roll_dice(n=5):\n",
    "    return tuple(sorted(np.random.randint(1, 7, n)))\n"
   ]
  },
  {
   "cell_type": "code",
   "execution_count": 116,
   "id": "e986cd52-0e5c-44a1-bddf-d739714a9506",
   "metadata": {},
   "outputs": [
    {
     "data": {
      "text/plain": [
       "(1, 1, 2, 4, 6)"
      ]
     },
     "execution_count": 116,
     "metadata": {},
     "output_type": "execute_result"
    }
   ],
   "source": [
    "initial_throw = roll_dice()\n",
    "initial_throw"
   ]
  },
  {
   "cell_type": "code",
   "execution_count": 117,
   "id": "e9ade9fe-1c30-4705-bbba-287872b84c96",
   "metadata": {},
   "outputs": [
    {
     "name": "stdout",
     "output_type": "stream",
     "text": [
      "145\n"
     ]
    }
   ],
   "source": [
    "lock_choices = powerset(initial_throw)\n",
    "top_k = 5\n",
    "n_nodes = 1 + len(lock_choices) * (top_k + 1) \n",
    "print(n_nodes)\n",
    "\n",
    "net = Network()\n",
    "agent = YamsT1E()\n",
    "sheet = {k: None for k in SHEET_KEYS}\n",
    "\n",
    "\n",
    "net.add_node(\"T1\"+str(initial_throw), label=str(initial_throw), size=7, color='black')\n",
    "nodes = []\n",
    "lock_node_scores = {}\n",
    "throw_node_scores = {}\n",
    "for lock_choice in lock_choices:\n",
    "    net.add_node(\"L1\"+str(lock_choice), label=str(lock_choice), size=5, shape='square')\n",
    "    net.add_edge(\"T1\"+str(initial_throw), \"L1\"+str(lock_choice), value=1)\n",
    "    \n",
    "    random_throw_nodes = []\n",
    "    for random_throw in generate_all_throws(lock_choice):\n",
    "        random_throw_score = agent.score_throw(sheet, random_throw)\n",
    "        random_throw_nodes.append(\n",
    "            (\n",
    "                \"T2\"+str(lock_choice)+str(random_throw), \n",
    "                random_throw_score,\n",
    "                random_throw\n",
    "            )\n",
    "        )\n",
    "        \n",
    "    # topk_nodes = sorted(random_throw_nodes, key=lambda x: -x[1][1])[:top_k] # best throws\n",
    "    # topk_nodes = sorted(random_throw_nodes)[:top_k] # sorted throws by dice values\n",
    "    topk_idx = np.random.choice(len(random_throw_nodes), top_k, \n",
    "                                replace=len(random_throw_nodes)<top_k) \n",
    "    topk_nodes = [random_throw_nodes[i] for i in topk_idx]\n",
    "    \n",
    "    for (node, score, rnd_throw) in topk_nodes:\n",
    "        net.add_node(node, label=str(rnd_throw), title=f'{score[0]}: {score[1]:.2f}', size=3)\n",
    "        net.add_edge(\"L1\"+str(lock_choice), node, value=1)\n",
    "        throw_node_scores[node] = score[1]\n",
    "\n",
    "    lock_score = np.mean([r[1][1] for r in random_throw_nodes])\n",
    "    lock_node_scores[\"L1\"+str(lock_choice)] = lock_score\n",
    "    net.get_node(\"L1\"+str(lock_choice))[\"title\"] = str(f'{lock_score:.2f}')\n"
   ]
  },
  {
   "cell_type": "code",
   "execution_count": 118,
   "id": "c6b88851-65a4-4d03-9848-3273b5a9378e",
   "metadata": {},
   "outputs": [],
   "source": [
    "from plotly.colors import sequential\n",
    "from branca import colormap\n",
    "from ast import literal_eval\n",
    "\n",
    "throw_cmap = colormap.LinearColormap(\n",
    "    [literal_eval(c.replace('rgb', '')) for c in sequential.Blues],\n",
    "    vmin=min(throw_node_scores.values()),\n",
    "    vmax=max(throw_node_scores.values()),\n",
    ")\n",
    "lock_cmap = colormap.LinearColormap(\n",
    "    [literal_eval(c.replace('rgb', '')) for c in sequential.Greens],\n",
    "    vmin=min(lock_node_scores.values()),\n",
    "    vmax=max(lock_node_scores.values()),\n",
    ")"
   ]
  },
  {
   "cell_type": "code",
   "execution_count": 119,
   "id": "eb9566d3-14a0-4320-a322-487ad3652436",
   "metadata": {},
   "outputs": [],
   "source": [
    "for (node, score) in lock_node_scores.items():\n",
    "    net.get_node(node)[\"color\"] = lock_cmap(score)\n",
    "for (node, score) in throw_node_scores.items():\n",
    "    net.get_node(node)[\"color\"] = throw_cmap(score)"
   ]
  },
  {
   "cell_type": "code",
   "execution_count": 120,
   "id": "36dc4ba1-8a41-4150-ae78-23433e2f2bfc",
   "metadata": {},
   "outputs": [],
   "source": [
    "for edge in net.get_edges():\n",
    "    edge[\"color\"] = net.get_node(edge[\"to\"])[\"color\"]\n"
   ]
  },
  {
   "cell_type": "code",
   "execution_count": 121,
   "id": "d140e3b8-747d-4e62-8be0-f106ca22fb92",
   "metadata": {},
   "outputs": [
    {
     "name": "stdout",
     "output_type": "stream",
     "text": [
      ".\\data/YamsDecision.html\n"
     ]
    }
   ],
   "source": [
    "import os\n",
    "\n",
    "filename = os.path.join(\n",
    "    os.path.curdir,\n",
    "    'data/YamsDecision.html'\n",
    ")\n",
    "net.show(filename, notebook=False)"
   ]
  }
 ],
 "metadata": {
  "kernelspec": {
   "display_name": "Python 3 (ipykernel)",
   "language": "python",
   "name": "python3"
  },
  "language_info": {
   "codemirror_mode": {
    "name": "ipython",
    "version": 3
   },
   "file_extension": ".py",
   "mimetype": "text/x-python",
   "name": "python",
   "nbconvert_exporter": "python",
   "pygments_lexer": "ipython3",
   "version": "3.10.10"
  }
 },
 "nbformat": 4,
 "nbformat_minor": 5
}
