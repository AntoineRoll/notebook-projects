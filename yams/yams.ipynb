{
 "cells": [
  {
   "cell_type": "code",
   "execution_count": 5,
   "id": "ca80041e-6af9-44e6-b0d0-18c9c41e407c",
   "metadata": {},
   "outputs": [],
   "source": [
    "%load_ext autoreload\n",
    "%autoreload 2"
   ]
  },
  {
   "cell_type": "code",
   "execution_count": 20,
   "id": "c42cb0ff-9959-4beb-9e93-242a48f28b01",
   "metadata": {
    "scrolled": true
   },
   "outputs": [
    {
     "name": "stdout",
     "output_type": "stream",
     "text": [
      "(2, 2, 2, 3, 4)\n",
      "{1: 0, 2: 6, 3: 3, 4: 4, 5: 0, 6: 0, 'Bonus': 0, 'Chance': 0, 'Brelan': 6, 'Carré': 0, 'Full': 0, 'Petite Suite': 0, 'Grande Suite': 0, 'Yams': 0}\n",
      "('Brelan', 6)\n"
     ]
    }
   ],
   "source": [
    "from yams import roll_dice, SHEET_KEYS, print_pretty_sheet\n",
    "import agents\n",
    "\n",
    "my_sheet = {k: None for k in SHEET_KEYS}\n",
    "my_sheet[\"Chance\"] = 10\n",
    "throw = roll_dice()\n",
    "\n",
    "print(throw)\n",
    "throw_eval = agents.get_sheet_points(my_sheet, throw)\n",
    "print(throw_eval)\n",
    "best_eval = agents.best_evaluation(throw_eval)\n",
    "print(best_eval)"
   ]
  },
  {
   "cell_type": "code",
   "execution_count": 21,
   "id": "5960ca71-af63-4468-9af8-2e018299fb92",
   "metadata": {
    "scrolled": true
   },
   "outputs": [
    {
     "data": {
      "text/plain": [
       "[(1, 2, 2, 2, 3),\n",
       " (2, 2, 3, 4, 6),\n",
       " (2, 2, 3, 6, 6),\n",
       " (1, 2, 2, 3, 4),\n",
       " (2, 2, 2, 3, 5),\n",
       " (2, 2, 3, 3, 4),\n",
       " (2, 2, 2, 2, 3),\n",
       " (2, 2, 3, 4, 5),\n",
       " (2, 2, 2, 3, 4),\n",
       " (2, 2, 3, 5, 6),\n",
       " (1, 2, 2, 3, 6),\n",
       " (1, 2, 2, 3, 3),\n",
       " (2, 2, 3, 3, 3),\n",
       " (2, 2, 3, 3, 6),\n",
       " (1, 1, 2, 2, 3),\n",
       " (2, 2, 3, 4, 4),\n",
       " (2, 2, 3, 5, 5),\n",
       " (2, 2, 2, 3, 3),\n",
       " (1, 2, 2, 3, 5),\n",
       " (2, 2, 2, 3, 6),\n",
       " (2, 2, 3, 3, 5)]"
      ]
     },
     "execution_count": 21,
     "metadata": {},
     "output_type": "execute_result"
    }
   ],
   "source": [
    "agents.generate_all_throws((2, 2, 3))"
   ]
  },
  {
   "cell_type": "code",
   "execution_count": 10,
   "id": "53c77a9c-dcc2-447a-8df2-c4202481919e",
   "metadata": {
    "scrolled": true
   },
   "outputs": [
    {
     "name": "stdout",
     "output_type": "stream",
     "text": [
      "(1, 4, 5, 6, 6)\n",
      "(6, 9.61744477139971)\n",
      "(6, 6)\n",
      "(6, 6)\n"
     ]
    }
   ],
   "source": [
    "\n",
    "agent = agents.YamsT1T()\n",
    "\n",
    "fake_sheet = {k: None for k in agents.SHEET_KEYS}\n",
    "fake_sheet[\"Chance\"] = 10\n",
    "fake_sheet[\"Grande Suite\"] = 0\n",
    "fake_sheet[\"Petite Suite\"] = 0\n",
    "\n",
    "r_throw = roll_dice()\n",
    "print(r_throw)\n",
    "\n",
    "print(agent.score_throw(fake_sheet, r_throw))\n",
    "print(agent.lock_dice(fake_sheet, r_throw, is_first_lock=True))\n",
    "print(agent.lock_dice(fake_sheet, r_throw, is_first_lock=False))\n"
   ]
  },
  {
   "cell_type": "code",
   "execution_count": 11,
   "id": "9fb3db30-22c1-43aa-a7bc-428bd2c98209",
   "metadata": {},
   "outputs": [
    {
     "name": "stdout",
     "output_type": "stream",
     "text": [
      "No cache hit setup.\n"
     ]
    }
   ],
   "source": [
    "try:\n",
    "    print(agent.cache_hit)\n",
    "    print(agent.cache_hit / (agent.cache_hit + agent.cache_missed))\n",
    "    print(len(agent.score_cache))\n",
    "except AttributeError:\n",
    "    print(\"No cache hit setup.\")"
   ]
  },
  {
   "cell_type": "code",
   "execution_count": 17,
   "id": "629e2393-01fb-4ae2-985a-8bb5701f7dc8",
   "metadata": {},
   "outputs": [
    {
     "name": "stdout",
     "output_type": "stream",
     "text": [
      "Cache evolution:\n",
      "0->253848\n"
     ]
    }
   ],
   "source": [
    "agent = agents.YamsT2()\n",
    "print(\"Cache evolution:\")\n",
    "print(agent.score_cache_hit, end=\"->\")\n",
    "agent.lock_dice(fake_sheet, r_throw, is_first_lock=True)\n",
    "print(agent.score_cache_hit)"
   ]
  },
  {
   "cell_type": "code",
   "execution_count": 22,
   "id": "76045bda-7f7e-40e9-8023-af0b7ba4fa3c",
   "metadata": {},
   "outputs": [
    {
     "name": "stdout",
     "output_type": "stream",
     "text": [
      "1            ->   \n",
      "2            ->   \n",
      "3            ->   \n",
      "4            ->   \n",
      "5            ->   \n",
      "6            ->   \n",
      "Bonus        ->   \n",
      "==================\n",
      "Chance       -> 10\n",
      "Brelan       ->   \n",
      "Carré        ->   \n",
      "Full         ->   \n",
      "Petite Suite -> 0 \n",
      "Grande Suite -> 0 \n",
      "Yams         ->   \n"
     ]
    }
   ],
   "source": [
    "print_pretty_sheet(fake_sheet)"
   ]
  },
  {
   "cell_type": "markdown",
   "id": "02f44060-59ed-49f0-a1a5-2ffd4587e503",
   "metadata": {},
   "source": [
    "# Yams Game"
   ]
  },
  {
   "cell_type": "code",
   "execution_count": 24,
   "id": "284cbd5e-6408-4ff0-9f4d-7f912a8c91ce",
   "metadata": {},
   "outputs": [
    {
     "name": "stdout",
     "output_type": "stream",
     "text": [
      "First throw: (1, 1, 3, 5, 6)\n",
      "Locked dice: (3, 5, 6)\n",
      "Second throw: (4, 6)\n",
      "Keeping dice: (3, 4, 5, 6)\n",
      "Third throw: (1,)\n",
      "1            ->   \n",
      "2            ->   \n",
      "3            ->   \n",
      "4            ->   \n",
      "5            ->   \n",
      "6            ->   \n",
      "Bonus        ->   \n",
      "==================\n",
      "Chance       ->   \n",
      "Brelan       ->   \n",
      "Carré        ->   \n",
      "Full         ->   \n",
      "Petite Suite -> 30\n",
      "Grande Suite ->   \n",
      "Yams         ->   \n"
     ]
    }
   ],
   "source": [
    "from yams import play_round\n",
    "# print_pretty_sheet(empty_sheet)\n",
    "empty_sheet = {k: None for k in agents.SHEET_KEYS}\n",
    "agent = agents.YamsT1T()\n",
    "play_round(empty_sheet, agent, verbose=True)\n",
    "    "
   ]
  },
  {
   "cell_type": "code",
   "execution_count": 3,
   "id": "b98d867f-ff41-478c-a65d-a19e5e593d20",
   "metadata": {
    "scrolled": true
   },
   "outputs": [
    {
     "name": "stdout",
     "output_type": "stream",
     "text": [
      "First throw: (1, 1, 5, 5, 6)\n",
      "Locked dice: (5, 5)\n",
      "Second throw: (3, 3, 6)\n",
      "Keeping dice: (5, 5)\n",
      "Third throw: (2, 3, 3)\n",
      "1            ->   \n",
      "2            ->   \n",
      "3            ->   \n",
      "4            ->   \n",
      "5            -> 10\n",
      "6            ->   \n",
      "Bonus        ->   \n",
      "==================\n",
      "Chance       ->   \n",
      "Brelan       ->   \n",
      "Carré        ->   \n",
      "Full         ->   \n",
      "Petite Suite ->   \n",
      "Grande Suite ->   \n",
      "Yams         ->   \n",
      "First throw: (1, 1, 2, 3, 3)\n",
      "Locked dice: ()\n",
      "Second throw: (1, 2, 3, 4, 6)\n",
      "Keeping dice: (1, 2, 3, 4)\n",
      "Third throw: (4,)\n",
      "1            ->   \n",
      "2            ->   \n",
      "3            ->   \n",
      "4            ->   \n",
      "5            -> 10\n",
      "6            ->   \n",
      "Bonus        ->   \n",
      "==================\n",
      "Chance       ->   \n",
      "Brelan       ->   \n",
      "Carré        ->   \n",
      "Full         ->   \n",
      "Petite Suite -> 30\n",
      "Grande Suite ->   \n",
      "Yams         ->   \n",
      "First throw: (1, 2, 2, 2, 3)\n",
      "Locked dice: (2, 2, 2)\n",
      "Second throw: (1, 5)\n",
      "Keeping dice: (2, 2, 2)\n",
      "Third throw: (3, 6)\n",
      "1            ->   \n",
      "2            -> 6 \n",
      "3            ->   \n",
      "4            ->   \n",
      "5            -> 10\n",
      "6            ->   \n",
      "Bonus        ->   \n",
      "==================\n",
      "Chance       ->   \n",
      "Brelan       ->   \n",
      "Carré        ->   \n",
      "Full         ->   \n",
      "Petite Suite -> 30\n",
      "Grande Suite ->   \n",
      "Yams         ->   \n",
      "First throw: (2, 5, 5, 6, 6)\n",
      "Locked dice: (6, 6)\n",
      "Second throw: (2, 5, 6)\n",
      "Keeping dice: (6, 6, 6)\n",
      "Third throw: (3, 4)\n",
      "1            ->   \n",
      "2            -> 6 \n",
      "3            ->   \n",
      "4            ->   \n",
      "5            -> 10\n",
      "6            ->   \n",
      "Bonus        ->   \n",
      "==================\n",
      "Chance       ->   \n",
      "Brelan       -> 18\n",
      "Carré        ->   \n",
      "Full         ->   \n",
      "Petite Suite -> 30\n",
      "Grande Suite ->   \n",
      "Yams         ->   \n",
      "First throw: (3, 3, 5, 5, 6)\n",
      "Locked dice: (5, 5)\n",
      "Second throw: (3, 4, 5)\n",
      "Keeping dice: (5, 5, 5)\n"
     ]
    },
    {
     "ename": "AssertionError",
     "evalue": "",
     "output_type": "error",
     "traceback": [
      "\u001b[1;31m---------------------------------------------------------------------------\u001b[0m",
      "\u001b[1;31mAssertionError\u001b[0m                            Traceback (most recent call last)",
      "Cell \u001b[1;32mIn[3], line 8\u001b[0m\n\u001b[0;32m      4\u001b[0m agent \u001b[38;5;241m=\u001b[39m agents\u001b[38;5;241m.\u001b[39mYamsT1T(\n\u001b[0;32m      5\u001b[0m     target_scores_file\u001b[38;5;241m=\u001b[39m\u001b[38;5;124m'\u001b[39m\u001b[38;5;124mtarget_full_custom.json\u001b[39m\u001b[38;5;124m'\u001b[39m\n\u001b[0;32m      6\u001b[0m )\n\u001b[0;32m      7\u001b[0m \u001b[38;5;66;03m# print(play_game(agent, verbose=False))\u001b[39;00m\n\u001b[1;32m----> 8\u001b[0m \u001b[43mplay_game\u001b[49m\u001b[43m(\u001b[49m\u001b[43magent\u001b[49m\u001b[43m,\u001b[49m\u001b[43m \u001b[49m\u001b[43mverbose\u001b[49m\u001b[38;5;241;43m=\u001b[39;49m\u001b[38;5;28;43;01mTrue\u001b[39;49;00m\u001b[43m,\u001b[49m\u001b[43m \u001b[49m\u001b[43mreal_dice\u001b[49m\u001b[38;5;241;43m=\u001b[39;49m\u001b[38;5;28;43;01mTrue\u001b[39;49;00m\u001b[43m)\u001b[49m\n",
      "File \u001b[1;32mc:\\Users\\Antoine\\Documents\\perso\\yams\\yams.py:172\u001b[0m, in \u001b[0;36mplay_game\u001b[1;34m(agent, verbose, return_sheet, real_dice)\u001b[0m\n\u001b[0;32m    170\u001b[0m my_sheet \u001b[38;5;241m=\u001b[39m {k: \u001b[38;5;28;01mNone\u001b[39;00m \u001b[38;5;28;01mfor\u001b[39;00m k \u001b[38;5;129;01min\u001b[39;00m SHEET_KEYS}\n\u001b[0;32m    171\u001b[0m \u001b[38;5;28;01mwhile\u001b[39;00m \u001b[38;5;28;01mNone\u001b[39;00m \u001b[38;5;129;01min\u001b[39;00m my_sheet\u001b[38;5;241m.\u001b[39mvalues():\n\u001b[1;32m--> 172\u001b[0m     \u001b[43mplay_round\u001b[49m\u001b[43m(\u001b[49m\u001b[43mmy_sheet\u001b[49m\u001b[43m,\u001b[49m\u001b[43m \u001b[49m\u001b[43magent\u001b[49m\u001b[43m,\u001b[49m\u001b[43m \u001b[49m\u001b[43mverbose\u001b[49m\u001b[38;5;241;43m=\u001b[39;49m\u001b[43mverbose\u001b[49m\u001b[43m,\u001b[49m\u001b[43m \u001b[49m\u001b[43mreal_dice\u001b[49m\u001b[38;5;241;43m=\u001b[39;49m\u001b[43mreal_dice\u001b[49m\u001b[43m)\u001b[49m\n\u001b[0;32m    173\u001b[0m \u001b[38;5;28;01mif\u001b[39;00m return_sheet:\n\u001b[0;32m    174\u001b[0m     \u001b[38;5;28;01mreturn\u001b[39;00m my_sheet\n",
      "File \u001b[1;32mc:\\Users\\Antoine\\Documents\\perso\\yams\\yams.py:144\u001b[0m, in \u001b[0;36mplay_round\u001b[1;34m(sheet, agent, verbose, real_dice)\u001b[0m\n\u001b[0;32m    141\u001b[0m \u001b[38;5;28;01mif\u001b[39;00m verbose: \u001b[38;5;28mprint\u001b[39m(\u001b[38;5;124m\"\u001b[39m\u001b[38;5;124mKeeping dice:\u001b[39m\u001b[38;5;124m\"\u001b[39m, locked_dice)\n\u001b[0;32m    143\u001b[0m \u001b[38;5;66;03m# Throwing some more dice a third and final time\u001b[39;00m\n\u001b[1;32m--> 144\u001b[0m final_throw \u001b[38;5;241m=\u001b[39m \u001b[43mroll_dice\u001b[49m\u001b[43m(\u001b[49m\u001b[38;5;241;43m5\u001b[39;49m\u001b[43m \u001b[49m\u001b[38;5;241;43m-\u001b[39;49m\u001b[43m \u001b[49m\u001b[38;5;28;43mlen\u001b[39;49m\u001b[43m(\u001b[49m\u001b[43mlocked_dice\u001b[49m\u001b[43m)\u001b[49m\u001b[43m,\u001b[49m\u001b[43m \u001b[49m\u001b[43mreal_dice\u001b[49m\u001b[38;5;241;43m=\u001b[39;49m\u001b[43mreal_dice\u001b[49m\u001b[43m)\u001b[49m\n\u001b[0;32m    145\u001b[0m \u001b[38;5;28;01mif\u001b[39;00m verbose: \u001b[38;5;28mprint\u001b[39m(\u001b[38;5;124m\"\u001b[39m\u001b[38;5;124mThird throw:\u001b[39m\u001b[38;5;124m\"\u001b[39m, final_throw)\n\u001b[0;32m    146\u001b[0m final_throw \u001b[38;5;241m=\u001b[39m \u001b[38;5;28mtuple\u001b[39m(\u001b[38;5;28msorted\u001b[39m((\u001b[38;5;241m*\u001b[39mlocked_dice, \u001b[38;5;241m*\u001b[39mfinal_throw)))\n",
      "File \u001b[1;32mc:\\Users\\Antoine\\Documents\\perso\\yams\\yams.py:9\u001b[0m, in \u001b[0;36mroll_dice\u001b[1;34m(n, real_dice)\u001b[0m\n\u001b[0;32m      7\u001b[0m table_dice \u001b[38;5;241m=\u001b[39m \u001b[38;5;28minput\u001b[39m(\u001b[38;5;124m\"\u001b[39m\u001b[38;5;124mThrown dices:\u001b[39m\u001b[38;5;124m\"\u001b[39m)\n\u001b[0;32m      8\u001b[0m dices \u001b[38;5;241m=\u001b[39m \u001b[38;5;28mtuple\u001b[39m(\u001b[38;5;28msorted\u001b[39m(\u001b[38;5;28mint\u001b[39m(dice) \u001b[38;5;28;01mfor\u001b[39;00m dice \u001b[38;5;129;01min\u001b[39;00m table_dice))\n\u001b[1;32m----> 9\u001b[0m \u001b[38;5;28;01massert\u001b[39;00m \u001b[38;5;28mlen\u001b[39m(dices) \u001b[38;5;241m==\u001b[39m n\n\u001b[0;32m     10\u001b[0m \u001b[38;5;28;01mfor\u001b[39;00m d \u001b[38;5;129;01min\u001b[39;00m dices:\n\u001b[0;32m     11\u001b[0m     \u001b[38;5;28;01massert\u001b[39;00m \u001b[38;5;241m1\u001b[39m \u001b[38;5;241m<\u001b[39m\u001b[38;5;241m=\u001b[39m d \u001b[38;5;241m<\u001b[39m\u001b[38;5;241m=\u001b[39m \u001b[38;5;241m6\u001b[39m\n",
      "\u001b[1;31mAssertionError\u001b[0m: "
     ]
    }
   ],
   "source": [
    "from yams import play_game\n",
    "import agents\n",
    "\n",
    "agent = agents.YamsT1T(\n",
    "    target_scores_file='target_full_custom.json'\n",
    ")\n",
    "# print(play_game(agent, verbose=False))\n",
    "play_game(agent, verbose=True, real_dice=True)"
   ]
  },
  {
   "cell_type": "code",
   "execution_count": 18,
   "id": "b601b0a7-39f2-4523-88af-e2cb8c32283d",
   "metadata": {},
   "outputs": [
    {
     "data": {
      "text/plain": [
       "(203.0, 206.19)"
      ]
     },
     "execution_count": 18,
     "metadata": {},
     "output_type": "execute_result"
    }
   ],
   "source": []
  },
  {
   "cell_type": "code",
   "execution_count": 15,
   "id": "d62cc86c-5776-49df-b987-bce6bce80e21",
   "metadata": {},
   "outputs": [
    {
     "data": {
      "image/png": "[encoded data removed]",
      "text/plain": [
       "<Figure size 1200x400 with 1 Axes>"
      ]
     },
     "metadata": {},
     "output_type": "display_data"
    }
   ],
   "source": []
  },
  {
   "cell_type": "code",
   "execution_count": 29,
   "id": "0253c532-37a9-42bd-9d5b-f4fbe5fe3d7c",
   "metadata": {},
   "outputs": [
    {
     "data": {
      "application/json": {
       "ascii": false,
       "bar_format": null,
       "colour": null,
       "elapsed": 0.01732182502746582,
       "initial": 0,
       "n": 0,
       "ncols": null,
       "nrows": 29,
       "postfix": null,
       "prefix": "",
       "rate": null,
       "total": 10000,
       "unit": "it",
       "unit_divisor": 1000,
       "unit_scale": false
      },
      "application/vnd.jupyter.widget-view+json": {
       "model_id": "96400bf4df13444d98c42f8aafaf4075",
       "version_major": 2,
       "version_minor": 0
      },
      "text/plain": [
       "  0%|          | 0/10000 [00:00<?, ?it/s]"
      ]
     },
     "metadata": {},
     "output_type": "display_data"
    }
   ],
   "source": []
  }
 ],
 "metadata": {
  "kernelspec": {
   "display_name": "Python 3 (ipykernel)",
   "language": "python",
   "name": "python3"
  },
  "language_info": {
   "codemirror_mode": {
    "name": "ipython",
    "version": 3
   },
   "file_extension": ".py",
   "mimetype": "text/x-python",
   "name": "python",
   "nbconvert_exporter": "python",
   "pygments_lexer": "ipython3",
   "version": "3.10.10"
  }
 },
 "nbformat": 4,
 "nbformat_minor": 5
}
